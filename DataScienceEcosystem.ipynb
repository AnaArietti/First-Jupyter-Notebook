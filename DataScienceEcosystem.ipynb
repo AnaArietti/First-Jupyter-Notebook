{
 "cells": [
  {
   "cell_type": "markdown",
   "id": "f1571f65-8309-4394-a636-68a86fad7570",
   "metadata": {
    "tags": []
   },
   "source": [
    "<h1> Data Science Tools and Ecosystem </h1> "
   ]
  },
  {
   "cell_type": "markdown",
   "id": "8cb8cbf9-ee0d-4842-a4e4-7f6063cac563",
   "metadata": {
    "tags": []
   },
   "source": [
    "### In this notebook, Data Science Tools and Ecosystem are summarized."
   ]
  },
  {
   "cell_type": "markdown",
   "id": "867f0225-0bd1-47ee-a162-282891fdfe1a",
   "metadata": {},
   "source": [
    "## Author:\n",
    "Ana Arietti\n"
   ]
  },
  {
   "cell_type": "markdown",
   "id": "c4233904-4693-4ddd-8722-1c37097b437b",
   "metadata": {},
   "source": [
    "**Objectives:**\n",
    "\n",
    "* Create markdown cell\n",
    "* Create code cell\n",
    "* Use arithmetic expressions\n",
    "* Use mathematical expressions\n",
    "* Insert comment lines\n"
   ]
  },
  {
   "cell_type": "markdown",
   "id": "d4667a64-7635-4b89-8514-8d6e05e58af1",
   "metadata": {},
   "source": [
    "Some of the popular languages that Data Scientists use are:\n",
    "\n",
    "1. Python\n",
    "2. SQL\n",
    "3. R\n",
    "4. Java\n",
    "5. C\n",
    "6. C++\n"
   ]
  },
  {
   "cell_type": "markdown",
   "id": "e908e9d3-9afa-495e-863f-da210d828695",
   "metadata": {},
   "source": [
    "Some of the commonly used libraries used by Data Scientists include:\n",
    "\n",
    "1. Pandas\n",
    "2. NumPy\n",
    "3. TensorFlow\n"
   ]
  },
  {
   "cell_type": "markdown",
   "id": "47007a41-2e68-459e-8c2b-a0000ad4b107",
   "metadata": {},
   "source": [
    "table of contents:\n",
    "\n",
    "|Data Science Tools|\n",
    "|:-:|\n",
    "|ApacheHadoop|\n",
    "|ApacheSpark|\n",
    "|ApacheCassandra|"
   ]
  },
  {
   "cell_type": "markdown",
   "id": "de2f438e-20cf-40ab-94da-c1b370c8671a",
   "metadata": {},
   "source": [
    "### Below are a few examples of evaluating arithmetic expressions in Python"
   ]
  },
  {
   "cell_type": "code",
   "execution_count": 2,
   "id": "13e731a6-29c7-440c-8ec8-92899182d3b6",
   "metadata": {
    "tags": []
   },
   "outputs": [
    {
     "data": {
      "text/plain": [
       "58"
      ]
     },
     "execution_count": 2,
     "metadata": {},
     "output_type": "execute_result"
    }
   ],
   "source": [
    "#This a simple arithmetic expression to mutiply then add integers\n",
    "\n",
    "(4*14)+2"
   ]
  },
  {
   "cell_type": "code",
   "execution_count": 16,
   "id": "9bcfb326-411f-4da1-828c-fc39853c1c67",
   "metadata": {
    "tags": []
   },
   "outputs": [],
   "source": [
    "#This will convert 200 minutes to hours by diving by 60\n",
    "\n",
    "def conv_hours(min):\n",
    "    return min / 60\n",
    "\n"
   ]
  },
  {
   "cell_type": "code",
   "execution_count": 25,
   "id": "4a5caf49-514d-4ef1-a5f5-f8ee7ec3adcb",
   "metadata": {
    "tags": []
   },
   "outputs": [
    {
     "name": "stdout",
     "output_type": "stream",
     "text": [
      "3.3333333333333335\n"
     ]
    }
   ],
   "source": [
    "print(conv_hours(200))"
   ]
  },
  {
   "cell_type": "code",
   "execution_count": null,
   "id": "5c4b2089-8571-423b-8d50-cd38d4f0337c",
   "metadata": {},
   "outputs": [],
   "source": []
  }
 ],
 "metadata": {
  "kernelspec": {
   "display_name": "Python",
   "language": "python",
   "name": "conda-env-python-py"
  },
  "language_info": {
   "codemirror_mode": {
    "name": "ipython",
    "version": 3
   },
   "file_extension": ".py",
   "mimetype": "text/x-python",
   "name": "python",
   "nbconvert_exporter": "python",
   "pygments_lexer": "ipython3",
   "version": "3.7.12"
  }
 },
 "nbformat": 4,
 "nbformat_minor": 5
}
